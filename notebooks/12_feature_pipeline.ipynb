{
 "cells": [
  {
   "cell_type": "code",
   "execution_count": 4,
   "metadata": {},
   "outputs": [],
   "source": [
    "import os"
   ]
  },
  {
   "cell_type": "code",
   "execution_count": 5,
   "metadata": {},
   "outputs": [
    {
     "data": {
      "text/plain": [
       "'d:\\\\Courses\\\\Pau_ML_course\\\\Taxi_demand_predictor\\\\notebooks'"
      ]
     },
     "execution_count": 5,
     "metadata": {},
     "output_type": "execute_result"
    }
   ],
   "source": [
    "%pwd"
   ]
  },
  {
   "cell_type": "code",
   "execution_count": 6,
   "metadata": {},
   "outputs": [],
   "source": [
    "os.chdir(\"../\")"
   ]
  },
  {
   "cell_type": "code",
   "execution_count": 7,
   "metadata": {},
   "outputs": [
    {
     "data": {
      "text/plain": [
       "'d:\\\\Courses\\\\Pau_ML_course\\\\Taxi_demand_predictor'"
      ]
     },
     "execution_count": 7,
     "metadata": {},
     "output_type": "execute_result"
    }
   ],
   "source": [
    "%pwd"
   ]
  },
  {
   "attachments": {},
   "cell_type": "markdown",
   "metadata": {},
   "source": [
    "### This note book will implement the feature pipeline.\n",
    "\n",
    "- This is run automatically every hour and is going to fetch a batch of recent data, transform it and save it to the feature store"
   ]
  },
  {
   "cell_type": "code",
   "execution_count": 16,
   "metadata": {},
   "outputs": [],
   "source": [
    "import src.config as config\n",
    "import pandas as pd\n",
    "from datetime import datetime, timedelta"
   ]
  },
  {
   "cell_type": "code",
   "execution_count": 17,
   "metadata": {},
   "outputs": [
    {
     "name": "stdout",
     "output_type": "stream",
     "text": [
      "current_date: 2023-06-15 18:00:00\n"
     ]
    }
   ],
   "source": [
    "current_date = pd.to_datetime(datetime.utcnow()).floor(\"H\")\n",
    "print(f\"current_date: {current_date}\")\n",
    "\n",
    "\n",
    "# we fetch the raw data for the last 28 days, to add redundancy to our data pipeline.\n",
    "# redundancy coz in case pipeline failes for a certain hour, it's not gonna break things completely\n",
    "fetch_data_to = current_date\n",
    "fetch_data_from = current_date - timedelta(days = 28)"
   ]
  },
  {
   "cell_type": "code",
   "execution_count": 21,
   "metadata": {},
   "outputs": [
    {
     "name": "stdout",
     "output_type": "stream",
     "text": [
      "fetch_data_from: 2023-05-18 18:00:00\n",
      "fetch_data_to: 2023-06-15 18:00:00\n"
     ]
    }
   ],
   "source": [
    "print(f\"fetch_data_from: {fetch_data_from}\")\n",
    "print(f\"fetch_data_to: {fetch_data_to}\")"
   ]
  },
  {
   "attachments": {},
   "cell_type": "markdown",
   "metadata": {},
   "source": [
    "### Now, we need to fetch recent data\n",
    "\n",
    "- We don't have access to NYC assosiation data warehouse, so we will simulate a call to data warehouse"
   ]
  },
  {
   "cell_type": "code",
   "execution_count": 24,
   "metadata": {},
   "outputs": [],
   "source": [
    "from src.data_processing import load_raw_data"
   ]
  },
  {
   "cell_type": "code",
   "execution_count": 25,
   "metadata": {},
   "outputs": [],
   "source": [
    "def fetch_batch_raw_data(from_date: datetime, to_date: datetime) -> pd.DataFrame:\n",
    "    \"\"\"Simulate production data by sampling historical data from 52 weeks ago(i.e. 1 year ago)\n",
    "\n",
    "    Args:\n",
    "        from_date (datetime): _description_\n",
    "        to_date (datetime): _description_\n",
    "\n",
    "    Returns:\n",
    "        pd.DataFrame: dataframe of historical data of that time period\n",
    "    \"\"\"\n",
    "    \n",
    "    from_date_ = from_date - timedelta(days = 7 * 52)\n",
    "    to_date_ = to_date - timedelta(days = 7 * 52)\n",
    "    print(f'{from_date=}, {to_date_=}')\n",
    "    \n",
    "    # download 2 files from website\n",
    "    rides = load_raw_data(year = from_date_.year, month_lst = from_date_.month)\n",
    "    rides = rides[rides.pickup_datetime >= from_date_]\n",
    "    rides_2 = load_raw_data(year = to_date_.year, month_lst = to_date_.month)\n",
    "    rides_2 = rides_2[rides_2.pickup_datetime < to_date_]\n",
    "    \n",
    "    \n",
    "    rides = pd.concat([rides, rides_2])\n",
    "    \n",
    "    # shift the data by 1 year to pretend this is recent data\n",
    "    rides[\"pickup_datetime\"] += timedelta(weeks = 7 * 52)\n",
    "    \n",
    "    rides.sort_values(by = [\"pickup_location_id\" ,\"pickup_datetime\"], inplace = True)\n",
    "    \n",
    "    \n",
    "    return rides"
   ]
  },
  {
   "attachments": {},
   "cell_type": "markdown",
   "metadata": {},
   "source": [
    "### Download the raw data of 1 yr back"
   ]
  },
  {
   "cell_type": "code",
   "execution_count": 26,
   "metadata": {},
   "outputs": [
    {
     "name": "stdout",
     "output_type": "stream",
     "text": [
      "from_date=Timestamp('2023-05-18 18:00:00'), to_date_=Timestamp('2022-06-16 18:00:00')\n",
      "File for 2022-05 already exists in local directory\n",
      "File for 2022-06 already exists in local directory\n"
     ]
    }
   ],
   "source": [
    "rides = fetch_batch_raw_data(from_date = fetch_data_from, to_date = fetch_data_to)"
   ]
  },
  {
   "attachments": {},
   "cell_type": "markdown",
   "metadata": {},
   "source": [
    "### Transform the raw data to time series data"
   ]
  },
  {
   "cell_type": "code",
   "execution_count": 27,
   "metadata": {},
   "outputs": [],
   "source": [
    "from src.data_processing import transform_raw_data_into_ts_data"
   ]
  },
  {
   "cell_type": "code",
   "execution_count": 28,
   "metadata": {},
   "outputs": [
    {
     "name": "stderr",
     "output_type": "stream",
     "text": [
      "100%|██████████| 265/265 [00:09<00:00, 27.62it/s]\n"
     ]
    }
   ],
   "source": [
    "ts_data = transform_raw_data_into_ts_data(rides)"
   ]
  },
  {
   "attachments": {},
   "cell_type": "markdown",
   "metadata": {},
   "source": [
    "### Connect to feature store and feature group where we want to store the data"
   ]
  },
  {
   "cell_type": "code",
   "execution_count": 29,
   "metadata": {},
   "outputs": [],
   "source": [
    "import hopsworks"
   ]
  },
  {
   "cell_type": "code",
   "execution_count": 30,
   "metadata": {},
   "outputs": [
    {
     "name": "stdout",
     "output_type": "stream",
     "text": [
      "Connected. Call `.close()` to terminate connection gracefully.\n",
      "\n",
      "Logged in to project, explore it here https://c.app.hopsworks.ai:443/p/59568\n",
      "Connected. Call `.close()` to terminate connection gracefully.\n"
     ]
    }
   ],
   "source": [
    "# connect to the project\n",
    "project = hopsworks.login(\n",
    "    project = config.HOPSWORKS_PROJECT_NAME,\n",
    "    api_key_value = config.HOPSWORKS_API_KEY\n",
    ")\n",
    "\n",
    "# connect to the feature store\n",
    "feature_store = project.get_feature_store()\n",
    "\n",
    "# connect to the feature group\n",
    "feature_group = feature_store.get_or_create_feature_group(\n",
    "    name = config.FEATURE_GROUP_NAME,\n",
    "    version = config.FEATURE_GROUP_VERSION,\n",
    "    description = \"Time-series data hourly frequency\",\n",
    "    primary_key = [\"pickup_location_id\", \"pickup_hour\"],\n",
    "    event_time = \"pickup_hour\"\n",
    ")"
   ]
  },
  {
   "attachments": {},
   "cell_type": "markdown",
   "metadata": {},
   "source": [
    "### Now, insert the data into the feature group"
   ]
  },
  {
   "cell_type": "code",
   "execution_count": 32,
   "metadata": {},
   "outputs": [
    {
     "name": "stdout",
     "output_type": "stream",
     "text": [
      "Feature Group created successfully, explore it at \n",
      "https://c.app.hopsworks.ai:443/p/59568/fs/58464/fg/62814\n"
     ]
    },
    {
     "data": {
      "application/vnd.jupyter.widget-view+json": {
       "model_id": "afc1895a875b4344964b5ff1ccffba44",
       "version_major": 2,
       "version_minor": 0
      },
      "text/plain": [
       "Uploading Dataframe: 0.00% |          | Rows 0/178080 | Elapsed Time: 00:00 | Remaining Time: ?"
      ]
     },
     "metadata": {},
     "output_type": "display_data"
    },
    {
     "name": "stdout",
     "output_type": "stream",
     "text": [
      "Launching offline feature group backfill job...\n",
      "Backfill Job started successfully, you can follow the progress at \n",
      "https://c.app.hopsworks.ai/p/59568/jobs/named/time_series_hourly_feature_gorup_1_offline_fg_backfill/executions\n"
     ]
    },
    {
     "data": {
      "text/plain": [
       "(<hsfs.core.job.Job at 0x2468ca6df70>, None)"
      ]
     },
     "execution_count": 32,
     "metadata": {},
     "output_type": "execute_result"
    }
   ],
   "source": [
    "feature_group.insert(ts_data, write_options = {\"wait_for_job\": False})"
   ]
  },
  {
   "attachments": {},
   "cell_type": "markdown",
   "metadata": {},
   "source": [
    "### In the next notebook, we will automate this execution by running this notebook  automatically every hour. We use github actions for this task"
   ]
  },
  {
   "cell_type": "code",
   "execution_count": null,
   "metadata": {},
   "outputs": [],
   "source": []
  }
 ],
 "metadata": {
  "kernelspec": {
   "display_name": "taxi_demand_predictor",
   "language": "python",
   "name": "python3"
  },
  "language_info": {
   "codemirror_mode": {
    "name": "ipython",
    "version": 3
   },
   "file_extension": ".py",
   "mimetype": "text/x-python",
   "name": "python",
   "nbconvert_exporter": "python",
   "pygments_lexer": "ipython3",
   "version": "3.9.16"
  },
  "orig_nbformat": 4
 },
 "nbformat": 4,
 "nbformat_minor": 2
}
